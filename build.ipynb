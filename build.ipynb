{
 "cells": [
  {
   "cell_type": "markdown",
   "metadata": {},
   "source": [
    "# Build Docker Images and Register with ECR\n",
    "This notebook is an extension of the build [CPU](https://github.com/daniel-fudge/sagemaker-tennis/blob/master/build-cpu.ipynb) and [GPU](https://github.com/daniel-fudge/sagemaker-tennis/blob/master/build-gpu.ipynb) notebooks in the related [Tennis](https://github.com/daniel-fudge/sagemaker-tennis) repo. If you are unfamiliar with building Docker images and registering them in AWS [ECR](https://aws.amazon.com/ecr/), please see the [Tennis](https://github.com/daniel-fudge/sagemaker-tennis) repo.\n",
    "\n",
    "If working on your own fork, you may want to set the following.\n",
    "```shell\n",
    "git config --global user.name \"Your Name\"\n",
    "git config --global user.email your.email@domain.com\n",
    "```"
   ]
  },
  {
   "cell_type": "markdown",
   "metadata": {},
   "source": [
    "#### ECR Access\n",
    "When you first created an SakeMaker instance either you made or selected a custom role or the system created one for you.  I believe there has been a change in the service since I initially made my `AmazonSageMaker-ExecutionRole`.  To execute the push below I had to add the `AmazonEC2ContainerRegistryFullAccess` policy to my SageMaker [IAM](https://console.aws.amazon.com/iam) role.  Specifically the `ecr:InitiateLayerUpload` access had to be added for images other than the SageMaker images covered in the SageMaker full access policy."
   ]
  },
  {
   "cell_type": "markdown",
   "metadata": {},
   "source": [
    "#### Build and register the CPU container"
   ]
  },
  {
   "cell_type": "code",
   "execution_count": 1,
   "metadata": {},
   "outputs": [],
   "source": [
    "!chmod -R 755 container"
   ]
  },
  {
   "cell_type": "code",
   "execution_count": 2,
   "metadata": {},
   "outputs": [
    {
     "name": "stdout",
     "output_type": "stream",
     "text": [
      "Requesting CPU image\n",
      "Login Succeeded\n",
      "Login Succeeded\n",
      "Sending build context to Docker daemon  3.111MB\n",
      "Step 1/10 : ARG REGION=us-east-1\n",
      "Step 2/10 : FROM 520713654638.dkr.ecr.$REGION.amazonaws.com/sagemaker-pytorch:1.1.0-cpu-py3\n",
      " ---> d374fb352c72\n",
      "Step 3/10 : RUN pip install --upgrade pip\n",
      " ---> Using cache\n",
      " ---> 7f47b2efe400\n",
      "Step 4/10 : COPY requirements.txt requirements.txt\n",
      " ---> Using cache\n",
      " ---> f14cf5b2c97f\n",
      "Step 5/10 : RUN pip install -r requirements.txt\n",
      " ---> Using cache\n",
      " ---> bb765ad79207\n",
      "Step 6/10 : ENV PATH=\"/opt/ml/code:${PATH}\"\n",
      " ---> Using cache\n",
      " ---> 49c1c72edd80\n",
      "Step 7/10 : COPY /src /opt/ml/code\n",
      " ---> 2aa35ae87cd7\n",
      "Step 8/10 : RUN chmod -R 755 /opt/ml/code\n",
      " ---> Running in 4c920f73c29d\n",
      "Removing intermediate container 4c920f73c29d\n",
      " ---> 1f7b38ceecf8\n",
      "Step 9/10 : ENV SAGEMAKER_SUBMIT_DIRECTORY /opt/ml/code\n",
      " ---> Running in 50e11f85749d\n",
      "Removing intermediate container 50e11f85749d\n",
      " ---> ba3cef1911a2\n",
      "Step 10/10 : ENV SAGEMAKER_PROGRAM train.py\n",
      " ---> Running in 9241394e989a\n",
      "Removing intermediate container 9241394e989a\n",
      " ---> 9b210873cc61\n",
      "Successfully built 9b210873cc61\n",
      "Successfully tagged portfolio-optimization-cpu:latest\n",
      "Building CPU image\n",
      "The push refers to repository [031118886020.dkr.ecr.us-east-1.amazonaws.com/portfolio-optimization-cpu]\n",
      "\n",
      "\u001b[1B2c1393fd: Preparing \n",
      "\u001b[1B2e869b44: Preparing \n",
      "\u001b[1Bf3650b81: Preparing \n",
      "\u001b[1B33237a0d: Preparing \n",
      "\u001b[1Bc1f3c1d3: Preparing \n",
      "\u001b[1Becc4e4d4: Preparing \n",
      "\u001b[1B808cebd3: Preparing \n",
      "\u001b[1Bf05eda79: Preparing \n",
      "\u001b[1B71db9add: Preparing \n",
      "\u001b[1B53464ab3: Preparing \n",
      "\u001b[1Bc4bd5031: Preparing \n",
      "\u001b[1Bd01ff144: Preparing \n",
      "\u001b[1B7f77d9db: Preparing \n",
      "\u001b[1B42719515: Preparing \n",
      "\u001b[1B103e78c9: Preparing \n",
      "\u001b[1Be637fbff: Preparing \n",
      "\u001b[16Be869b44: Pushed lready exists 7MB3A\u001b[2K\u001b[11A\u001b[2K\u001b[17A\u001b[2K\u001b[16A\u001b[2K\u001b[17A\u001b[2K\u001b[16A\u001b[2K\u001b[17A\u001b[2K\u001b[16A\u001b[2K\u001b[3A\u001b[2K\u001b[17A\u001b[2K\u001b[16A\u001b[2Klatest: digest: sha256:7760ac0d1f2c3ca21d6cb4ef33aeed70240c25720a80eb256de47740e7ac6a83 size: 3881\n"
     ]
    }
   ],
   "source": [
    "!./container/build_and_push.sh"
   ]
  },
  {
   "cell_type": "markdown",
   "metadata": {},
   "source": [
    "#### Build and register the GPU container"
   ]
  },
  {
   "cell_type": "code",
   "execution_count": 3,
   "metadata": {},
   "outputs": [
    {
     "name": "stdout",
     "output_type": "stream",
     "text": [
      "Requesting GPU image\n",
      "Login Succeeded\n",
      "Login Succeeded\n",
      "Sending build context to Docker daemon  3.111MB\n",
      "Step 1/10 : ARG REGION=us-east-1\n",
      "Step 2/10 : FROM 520713654638.dkr.ecr.$REGION.amazonaws.com/sagemaker-pytorch:1.1.0-gpu-py3\n",
      " ---> adbf113505a2\n",
      "Step 3/10 : RUN pip install --upgrade pip\n",
      " ---> Using cache\n",
      " ---> ff6ab306e9a6\n",
      "Step 4/10 : COPY requirements.txt requirements.txt\n",
      " ---> Using cache\n",
      " ---> 336963fc3560\n",
      "Step 5/10 : RUN pip install -r requirements.txt\n",
      " ---> Using cache\n",
      " ---> c196d6132c55\n",
      "Step 6/10 : ENV PATH=\"/opt/ml/code:${PATH}\"\n",
      " ---> Using cache\n",
      " ---> b8d193e13835\n",
      "Step 7/10 : COPY /src /opt/ml/code\n",
      " ---> eb09d38c1088\n",
      "Step 8/10 : RUN chmod -R 755 /opt/ml/code\n",
      " ---> Running in 31094c5bbd36\n",
      "Removing intermediate container 31094c5bbd36\n",
      " ---> d4957fe0c2fe\n",
      "Step 9/10 : ENV SAGEMAKER_SUBMIT_DIRECTORY /opt/ml/code\n",
      " ---> Running in 249f4937747a\n",
      "Removing intermediate container 249f4937747a\n",
      " ---> 71e5ba51225d\n",
      "Step 10/10 : ENV SAGEMAKER_PROGRAM train.py\n",
      " ---> Running in 8ceb62aa85dd\n",
      "Removing intermediate container 8ceb62aa85dd\n",
      " ---> 50a3c2e1cf4c\n",
      "Successfully built 50a3c2e1cf4c\n",
      "Successfully tagged portfolio-optimization-gpu:latest\n",
      "Building GPU image\n",
      "The push refers to repository [031118886020.dkr.ecr.us-east-1.amazonaws.com/portfolio-optimization-gpu]\n",
      "\n",
      "\u001b[1B0aa85ab9: Preparing \n",
      "\u001b[1B330c0536: Preparing \n",
      "\u001b[1Be88aa146: Preparing \n",
      "\u001b[1B33237a0d: Preparing \n",
      "\u001b[1B38248b0f: Preparing \n",
      "\u001b[1Bf3470ef5: Preparing \n",
      "\u001b[1B808cebd3: Preparing \n",
      "\u001b[1Ba36844e2: Preparing \n",
      "\u001b[1Bac83281f: Preparing \n",
      "\u001b[1B53464ab3: Preparing \n",
      "\u001b[1B7a178c2c: Preparing \n",
      "\u001b[1B1f16c1bd: Preparing \n",
      "\u001b[1Ba3d32a13: Preparing \n",
      "\u001b[1Bc432fc3d: Preparing \n",
      "\u001b[1Bd718ffb0: Preparing \n",
      "\u001b[1Bf211099a: Preparing \n",
      "\u001b[1Bb5b15f16: Preparing \n",
      "\u001b[1B0239569d: Preparing \n",
      "\u001b[1B42719515: Preparing \n",
      "\u001b[1B103e78c9: Preparing \n",
      "\u001b[1Be637fbff: Preparing \n",
      "\u001b[22Baa85ab9: Pushed lready exists 7MB2A\u001b[2K\u001b[15A\u001b[2K\u001b[22A\u001b[2K\u001b[16A\u001b[2K\u001b[22A\u001b[2K\u001b[21A\u001b[2K\u001b[13A\u001b[2K\u001b[9A\u001b[2K\u001b[8A\u001b[2K\u001b[5A\u001b[2K\u001b[1A\u001b[2K\u001b[21A\u001b[2K\u001b[22A\u001b[2Klatest: digest: sha256:3f0b815f9d496a0222f67976a4d5335b22d34360c0fb2877479aeea912b05a2c size: 4937\n"
     ]
    }
   ],
   "source": [
    "!./container/build_and_push.sh gpu"
   ]
  },
  {
   "cell_type": "markdown",
   "metadata": {},
   "source": [
    "#### Setup Notebook for local execution"
   ]
  },
  {
   "cell_type": "code",
   "execution_count": 78,
   "metadata": {},
   "outputs": [
    {
     "name": "stdout",
     "output_type": "stream",
     "text": [
      "The user has root access.\n",
      "SageMaker instance route table setup is ok. We are good to go.\n",
      "SageMaker instance routing for Docker is ok. We are good to go!\n"
     ]
    }
   ],
   "source": [
    "!/bin/bash ./utils/setup.sh"
   ]
  },
  {
   "cell_type": "markdown",
   "metadata": {},
   "source": [
    "#### Train the CPU model locally\n",
    "Since we only want to check the functionality, we will start at day 2915.  There are only 2922 days worth of signals so we are only letting the model trade for 7 days."
   ]
  },
  {
   "cell_type": "code",
   "execution_count": 79,
   "metadata": {},
   "outputs": [
    {
     "name": "stderr",
     "output_type": "stream",
     "text": [
      "WARNING:root:Parameter image_name will be renamed to image_uri in SageMaker Python SDK v2.\n"
     ]
    },
    {
     "name": "stdout",
     "output_type": "stream",
     "text": [
      "Creating tmp6a3tj01k_algo-1-hbd2d_1 ... \n",
      "\u001b[1BAttaching to tmp6a3tj01k_algo-1-hbd2d_12mdone\u001b[0m\n",
      "\u001b[36malgo-1-hbd2d_1  |\u001b[0m 2020-07-12 00:18:44,283 sagemaker-containers INFO     Imported framework sagemaker_pytorch_container.training\n",
      "\u001b[36malgo-1-hbd2d_1  |\u001b[0m 2020-07-12 00:18:44,287 sagemaker-containers INFO     No GPUs detected (normal if no gpus installed)\n",
      "\u001b[36malgo-1-hbd2d_1  |\u001b[0m 2020-07-12 00:18:44,300 sagemaker_pytorch_container.training INFO     Block until all host DNS lookups succeed.\n",
      "\u001b[36malgo-1-hbd2d_1  |\u001b[0m 2020-07-12 00:18:44,302 sagemaker_pytorch_container.training INFO     Invoking user training script.\n",
      "\u001b[36malgo-1-hbd2d_1  |\u001b[0m 2020-07-12 00:18:44,303 sagemaker-containers INFO     Module train does not provide a setup.py. \n",
      "\u001b[36malgo-1-hbd2d_1  |\u001b[0m Generating setup.py\n",
      "\u001b[36malgo-1-hbd2d_1  |\u001b[0m 2020-07-12 00:18:44,303 sagemaker-containers INFO     Generating setup.cfg\n",
      "\u001b[36malgo-1-hbd2d_1  |\u001b[0m 2020-07-12 00:18:44,304 sagemaker-containers INFO     Generating MANIFEST.in\n",
      "\u001b[36malgo-1-hbd2d_1  |\u001b[0m 2020-07-12 00:18:44,304 sagemaker-containers INFO     Installing module with the following command:\n",
      "\u001b[36malgo-1-hbd2d_1  |\u001b[0m /usr/bin/python -m pip install . \n",
      "\u001b[36malgo-1-hbd2d_1  |\u001b[0m Processing /opt/ml/code\n",
      "\u001b[36malgo-1-hbd2d_1  |\u001b[0m Building wheels for collected packages: train\n",
      "\u001b[36malgo-1-hbd2d_1  |\u001b[0m   Building wheel for train (setup.py) ... \u001b[?25ldone\n",
      "\u001b[36malgo-1-hbd2d_1  |\u001b[0m \u001b[?25h  Created wheel for train: filename=train-1.0.0-py2.py3-none-any.whl size=1287943 sha256=903c111afd0fc235a543b963eb89913fb8245cad083a9a03e1e39970439ebc69\n",
      "\u001b[36malgo-1-hbd2d_1  |\u001b[0m   Stored in directory: /tmp/pip-ephem-wheel-cache-nibupv4a/wheels/95/c1/85/65aaf48b35aba88c6e896d2fd04a4b69f1cee0d81ea32993ca\n",
      "\u001b[36malgo-1-hbd2d_1  |\u001b[0m Successfully built train\n",
      "\u001b[36malgo-1-hbd2d_1  |\u001b[0m Installing collected packages: train\n",
      "\u001b[36malgo-1-hbd2d_1  |\u001b[0m Successfully installed train-1.0.0\n",
      "\u001b[36malgo-1-hbd2d_1  |\u001b[0m 2020-07-12 00:18:46,122 sagemaker-containers INFO     No GPUs detected (normal if no gpus installed)\n",
      "\u001b[36malgo-1-hbd2d_1  |\u001b[0m 2020-07-12 00:18:46,135 sagemaker-containers INFO     Invoking user script\n",
      "\u001b[36malgo-1-hbd2d_1  |\u001b[0m \n",
      "\u001b[36malgo-1-hbd2d_1  |\u001b[0m Training Env:\n",
      "\u001b[36malgo-1-hbd2d_1  |\u001b[0m \n",
      "\u001b[36malgo-1-hbd2d_1  |\u001b[0m {\n",
      "\u001b[36malgo-1-hbd2d_1  |\u001b[0m     \"additional_framework_parameters\": {},\n",
      "\u001b[36malgo-1-hbd2d_1  |\u001b[0m     \"channel_input_dirs\": {},\n",
      "\u001b[36malgo-1-hbd2d_1  |\u001b[0m     \"current_host\": \"algo-1-hbd2d\",\n",
      "\u001b[36malgo-1-hbd2d_1  |\u001b[0m     \"framework_module\": \"sagemaker_pytorch_container.training:main\",\n",
      "\u001b[36malgo-1-hbd2d_1  |\u001b[0m     \"hosts\": [\n",
      "\u001b[36malgo-1-hbd2d_1  |\u001b[0m         \"algo-1-hbd2d\"\n",
      "\u001b[36malgo-1-hbd2d_1  |\u001b[0m     ],\n",
      "\u001b[36malgo-1-hbd2d_1  |\u001b[0m     \"hyperparameters\": {\n",
      "\u001b[36malgo-1-hbd2d_1  |\u001b[0m         \"start_day\": 2915\n",
      "\u001b[36malgo-1-hbd2d_1  |\u001b[0m     },\n",
      "\u001b[36malgo-1-hbd2d_1  |\u001b[0m     \"input_config_dir\": \"/opt/ml/input/config\",\n",
      "\u001b[36malgo-1-hbd2d_1  |\u001b[0m     \"input_data_config\": {},\n",
      "\u001b[36malgo-1-hbd2d_1  |\u001b[0m     \"input_dir\": \"/opt/ml/input\",\n",
      "\u001b[36malgo-1-hbd2d_1  |\u001b[0m     \"is_master\": true,\n",
      "\u001b[36malgo-1-hbd2d_1  |\u001b[0m     \"job_name\": \"portfolio-optimization-cpu-2020-07-12-00-18-41-799\",\n",
      "\u001b[36malgo-1-hbd2d_1  |\u001b[0m     \"log_level\": 20,\n",
      "\u001b[36malgo-1-hbd2d_1  |\u001b[0m     \"master_hostname\": \"algo-1-hbd2d\",\n",
      "\u001b[36malgo-1-hbd2d_1  |\u001b[0m     \"model_dir\": \"/opt/ml/model\",\n",
      "\u001b[36malgo-1-hbd2d_1  |\u001b[0m     \"module_dir\": \"/opt/ml/code\",\n",
      "\u001b[36malgo-1-hbd2d_1  |\u001b[0m     \"module_name\": \"train\",\n",
      "\u001b[36malgo-1-hbd2d_1  |\u001b[0m     \"network_interface_name\": \"eth0\",\n",
      "\u001b[36malgo-1-hbd2d_1  |\u001b[0m     \"num_cpus\": 2,\n",
      "\u001b[36malgo-1-hbd2d_1  |\u001b[0m     \"num_gpus\": 0,\n",
      "\u001b[36malgo-1-hbd2d_1  |\u001b[0m     \"output_data_dir\": \"/opt/ml/output/data\",\n",
      "\u001b[36malgo-1-hbd2d_1  |\u001b[0m     \"output_dir\": \"/opt/ml/output\",\n",
      "\u001b[36malgo-1-hbd2d_1  |\u001b[0m     \"output_intermediate_dir\": \"/opt/ml/output/intermediate\",\n",
      "\u001b[36malgo-1-hbd2d_1  |\u001b[0m     \"resource_config\": {\n",
      "\u001b[36malgo-1-hbd2d_1  |\u001b[0m         \"current_host\": \"algo-1-hbd2d\",\n",
      "\u001b[36malgo-1-hbd2d_1  |\u001b[0m         \"hosts\": [\n",
      "\u001b[36malgo-1-hbd2d_1  |\u001b[0m             \"algo-1-hbd2d\"\n",
      "\u001b[36malgo-1-hbd2d_1  |\u001b[0m         ]\n",
      "\u001b[36malgo-1-hbd2d_1  |\u001b[0m     },\n",
      "\u001b[36malgo-1-hbd2d_1  |\u001b[0m     \"user_entry_point\": \"train.py\"\n",
      "\u001b[36malgo-1-hbd2d_1  |\u001b[0m }\n",
      "\u001b[36malgo-1-hbd2d_1  |\u001b[0m \n",
      "\u001b[36malgo-1-hbd2d_1  |\u001b[0m Environment variables:\n",
      "\u001b[36malgo-1-hbd2d_1  |\u001b[0m \n",
      "\u001b[36malgo-1-hbd2d_1  |\u001b[0m SM_HOSTS=[\"algo-1-hbd2d\"]\n",
      "\u001b[36malgo-1-hbd2d_1  |\u001b[0m SM_NETWORK_INTERFACE_NAME=eth0\n",
      "\u001b[36malgo-1-hbd2d_1  |\u001b[0m SM_HPS={\"start_day\":2915}\n",
      "\u001b[36malgo-1-hbd2d_1  |\u001b[0m SM_USER_ENTRY_POINT=train.py\n",
      "\u001b[36malgo-1-hbd2d_1  |\u001b[0m SM_FRAMEWORK_PARAMS={}\n",
      "\u001b[36malgo-1-hbd2d_1  |\u001b[0m SM_RESOURCE_CONFIG={\"current_host\":\"algo-1-hbd2d\",\"hosts\":[\"algo-1-hbd2d\"]}\n",
      "\u001b[36malgo-1-hbd2d_1  |\u001b[0m SM_INPUT_DATA_CONFIG={}\n",
      "\u001b[36malgo-1-hbd2d_1  |\u001b[0m SM_OUTPUT_DATA_DIR=/opt/ml/output/data\n",
      "\u001b[36malgo-1-hbd2d_1  |\u001b[0m SM_CHANNELS=[]\n",
      "\u001b[36malgo-1-hbd2d_1  |\u001b[0m SM_CURRENT_HOST=algo-1-hbd2d\n",
      "\u001b[36malgo-1-hbd2d_1  |\u001b[0m SM_MODULE_NAME=train\n",
      "\u001b[36malgo-1-hbd2d_1  |\u001b[0m SM_LOG_LEVEL=20\n",
      "\u001b[36malgo-1-hbd2d_1  |\u001b[0m SM_FRAMEWORK_MODULE=sagemaker_pytorch_container.training:main\n",
      "\u001b[36malgo-1-hbd2d_1  |\u001b[0m SM_INPUT_DIR=/opt/ml/input\n",
      "\u001b[36malgo-1-hbd2d_1  |\u001b[0m SM_INPUT_CONFIG_DIR=/opt/ml/input/config\n",
      "\u001b[36malgo-1-hbd2d_1  |\u001b[0m SM_OUTPUT_DIR=/opt/ml/output\n",
      "\u001b[36malgo-1-hbd2d_1  |\u001b[0m SM_NUM_CPUS=2\n",
      "\u001b[36malgo-1-hbd2d_1  |\u001b[0m SM_NUM_GPUS=0\n",
      "\u001b[36malgo-1-hbd2d_1  |\u001b[0m SM_MODEL_DIR=/opt/ml/model\n",
      "\u001b[36malgo-1-hbd2d_1  |\u001b[0m SM_MODULE_DIR=/opt/ml/code\n",
      "\u001b[36malgo-1-hbd2d_1  |\u001b[0m SM_TRAINING_ENV={\"additional_framework_parameters\":{},\"channel_input_dirs\":{},\"current_host\":\"algo-1-hbd2d\",\"framework_module\":\"sagemaker_pytorch_container.training:main\",\"hosts\":[\"algo-1-hbd2d\"],\"hyperparameters\":{\"start_day\":2915},\"input_config_dir\":\"/opt/ml/input/config\",\"input_data_config\":{},\"input_dir\":\"/opt/ml/input\",\"is_master\":true,\"job_name\":\"portfolio-optimization-cpu-2020-07-12-00-18-41-799\",\"log_level\":20,\"master_hostname\":\"algo-1-hbd2d\",\"model_dir\":\"/opt/ml/model\",\"module_dir\":\"/opt/ml/code\",\"module_name\":\"train\",\"network_interface_name\":\"eth0\",\"num_cpus\":2,\"num_gpus\":0,\"output_data_dir\":\"/opt/ml/output/data\",\"output_dir\":\"/opt/ml/output\",\"output_intermediate_dir\":\"/opt/ml/output/intermediate\",\"resource_config\":{\"current_host\":\"algo-1-hbd2d\",\"hosts\":[\"algo-1-hbd2d\"]},\"user_entry_point\":\"train.py\"}\n",
      "\u001b[36malgo-1-hbd2d_1  |\u001b[0m SM_USER_ARGS=[\"--start_day\",\"2915\"]\n",
      "\u001b[36malgo-1-hbd2d_1  |\u001b[0m SM_OUTPUT_INTERMEDIATE_DIR=/opt/ml/output/intermediate\n",
      "\u001b[36malgo-1-hbd2d_1  |\u001b[0m SM_HP_START_DAY=2915\n",
      "\u001b[36malgo-1-hbd2d_1  |\u001b[0m PYTHONPATH=/usr/local/bin:/usr/lib/python36.zip:/usr/lib/python3.6:/usr/lib/python3.6/lib-dynload:/usr/local/lib/python3.6/dist-packages:/usr/lib/python3/dist-packages\n",
      "\u001b[36malgo-1-hbd2d_1  |\u001b[0m \n",
      "\u001b[36malgo-1-hbd2d_1  |\u001b[0m Invoking script with the following command:\n",
      "\u001b[36malgo-1-hbd2d_1  |\u001b[0m \n",
      "\u001b[36malgo-1-hbd2d_1  |\u001b[0m /usr/bin/python -m train --start_day 2915\n",
      "\u001b[36malgo-1-hbd2d_1  |\u001b[0m \n",
      "\u001b[36malgo-1-hbd2d_1  |\u001b[0m \n",
      "\u001b[36malgo-1-hbd2d_1  |\u001b[0m CPU activated.\n",
      "\u001b[36malgo-1-hbd2d_1  |\u001b[0m Setting up the environment.\n",
      "\u001b[36malgo-1-hbd2d_1  |\u001b[0m Size of action space: 10\n",
      "\u001b[36malgo-1-hbd2d_1  |\u001b[0m State space per agent: 71\n",
      "\u001b[36malgo-1-hbd2d_1  |\u001b[0m Training the agent.\n",
      "\u001b[36malgo-1-hbd2d_1  |\u001b[0m .....................................................................................\n",
      "\u001b[36malgo-1-hbd2d_1  |\u001b[0m Day 2915, epoch 85 mean p/m ratio: 1.03\n",
      "\u001b[36malgo-1-hbd2d_1  |\u001b[0m .....................................................................\n",
      "\u001b[36malgo-1-hbd2d_1  |\u001b[0m Day 2916, epoch 69 mean p/m ratio: 1.03\n",
      "\u001b[36malgo-1-hbd2d_1  |\u001b[0m ...................................................................................\n",
      "\u001b[36malgo-1-hbd2d_1  |\u001b[0m Day 2917, epoch 83 mean p/m ratio: 1.06\n",
      "\u001b[36malgo-1-hbd2d_1  |\u001b[0m .........................................\n",
      "\u001b[36malgo-1-hbd2d_1  |\u001b[0m Day 2918, epoch 41 mean p/m ratio: 1.02\n",
      "\u001b[36malgo-1-hbd2d_1  |\u001b[0m ................................................\n",
      "\u001b[36malgo-1-hbd2d_1  |\u001b[0m Day 2919, epoch 48 mean p/m ratio: 1.03\n",
      "\u001b[36malgo-1-hbd2d_1  |\u001b[0m ...........................\n",
      "\u001b[36malgo-1-hbd2d_1  |\u001b[0m Day 2920, epoch 27 mean p/m ratio: 1.04\n",
      "\u001b[36malgo-1-hbd2d_1  |\u001b[0m .....................\n",
      "\u001b[36malgo-1-hbd2d_1  |\u001b[0m Day 2921, epoch 21 mean p/m ratio: 1.02\n",
      "\u001b[36malgo-1-hbd2d_1  |\u001b[0m 0.95 p/m ratio.\n",
      "\u001b[36malgo-1-hbd2d_1  |\u001b[0m 3.48 minutes of training.\n",
      "\u001b[36malgo-1-hbd2d_1  |\u001b[0m -4.58 training objective.\n",
      "\u001b[36malgo-1-hbd2d_1  |\u001b[0m Training Time:  3.5 minutes\n",
      "\u001b[36malgo-1-hbd2d_1  |\u001b[0m Make training plot.\n"
     ]
    },
    {
     "name": "stdout",
     "output_type": "stream",
     "text": [
      "\u001b[36malgo-1-hbd2d_1  |\u001b[0m 2020-07-12 00:22:16,782 sagemaker-containers INFO     Reporting training SUCCESS\n",
      "\u001b[36mtmp6a3tj01k_algo-1-hbd2d_1 exited with code 0\n",
      "\u001b[0mAborting on container exit...\n"
     ]
    },
    {
     "name": "stderr",
     "output_type": "stream",
     "text": [
      "WARNING:sagemaker.local.image:Failed to delete: /tmp/tmp6a3tj01k/algo-1-hbd2d Please remove it manually.\n"
     ]
    },
    {
     "name": "stdout",
     "output_type": "stream",
     "text": [
      "===== Job Complete =====\n"
     ]
    }
   ],
   "source": [
    "from sagemaker.estimator import Estimator\n",
    "from sagemaker import get_execution_role\n",
    "\n",
    "start_day = 2915\n",
    "role = get_execution_role()\n",
    "estimator = Estimator(role=role,\n",
    "                      train_instance_count=1,\n",
    "                      train_instance_type='local',\n",
    "                      image_name='portfolio-optimization-cpu:latest',\n",
    "                      hyperparameters={'start_day': start_day})\n",
    "estimator.fit()"
   ]
  },
  {
   "cell_type": "markdown",
   "metadata": {},
   "source": [
    "### Train on SageMaker"
   ]
  },
  {
   "cell_type": "markdown",
   "metadata": {},
   "source": [
    "#### Locate the ECR image just built and pushed"
   ]
  },
  {
   "cell_type": "code",
   "execution_count": 81,
   "metadata": {},
   "outputs": [
    {
     "name": "stdout",
     "output_type": "stream",
     "text": [
      "031118886020.dkr.ecr.us-east-1.amazonaws.com/portfolio-optimization-cpu:latest\n"
     ]
    }
   ],
   "source": [
    "import boto3\n",
    "\n",
    "client = boto3.client('sts')\n",
    "account = client.get_caller_identity()['Account']\n",
    "region = boto3.Session().region_name\n",
    "ecr_image = '{}.dkr.ecr.{}.amazonaws.com/portfolio-optimization-cpu:latest'.format(account, region)\n",
    "\n",
    "print(ecr_image)"
   ]
  },
  {
   "cell_type": "markdown",
   "metadata": {},
   "source": [
    "#### Submit the training job"
   ]
  },
  {
   "cell_type": "code",
   "execution_count": 82,
   "metadata": {},
   "outputs": [
    {
     "name": "stderr",
     "output_type": "stream",
     "text": [
      "WARNING:root:Parameter image_name will be renamed to image_uri in SageMaker Python SDK v2.\n"
     ]
    },
    {
     "name": "stdout",
     "output_type": "stream",
     "text": [
      "2020-07-12 00:22:24 Starting - Starting the training job...\n",
      "2020-07-12 00:22:26 Starting - Launching requested ML instances......\n",
      "2020-07-12 00:23:41 Starting - Preparing the instances for training...\n",
      "2020-07-12 00:24:22 Downloading - Downloading input data...\n",
      "2020-07-12 00:24:34 Training - Downloading the training image....\u001b[34mbash: cannot set terminal process group (-1): Inappropriate ioctl for device\u001b[0m\n",
      "\u001b[34mbash: no job control in this shell\u001b[0m\n",
      "\u001b[34m2020-07-12 00:25:28,185 sagemaker-containers INFO     Imported framework sagemaker_pytorch_container.training\u001b[0m\n",
      "\u001b[34m2020-07-12 00:25:28,188 sagemaker-containers INFO     No GPUs detected (normal if no gpus installed)\u001b[0m\n",
      "\u001b[34m2020-07-12 00:25:28,198 sagemaker_pytorch_container.training INFO     Block until all host DNS lookups succeed.\u001b[0m\n",
      "\u001b[34m2020-07-12 00:25:29,616 sagemaker_pytorch_container.training INFO     Invoking user training script.\u001b[0m\n",
      "\u001b[34m2020-07-12 00:25:29,617 sagemaker-containers INFO     Module train does not provide a setup.py. \u001b[0m\n",
      "\u001b[34mGenerating setup.py\u001b[0m\n",
      "\u001b[34m2020-07-12 00:25:29,617 sagemaker-containers INFO     Generating setup.cfg\u001b[0m\n",
      "\u001b[34m2020-07-12 00:25:29,618 sagemaker-containers INFO     Generating MANIFEST.in\u001b[0m\n",
      "\u001b[34m2020-07-12 00:25:29,618 sagemaker-containers INFO     Installing module with the following command:\u001b[0m\n",
      "\u001b[34m/usr/bin/python -m pip install . \u001b[0m\n",
      "\u001b[34mProcessing /opt/ml/code\u001b[0m\n",
      "\u001b[34mBuilding wheels for collected packages: train\n",
      "  Building wheel for train (setup.py): started\n",
      "  Building wheel for train (setup.py): finished with status 'done'\n",
      "  Created wheel for train: filename=train-1.0.0-py2.py3-none-any.whl size=1287943 sha256=8724c526517ea5cee248115b436fe55d06d488bc75f371d82a1047514526d3cb\n",
      "  Stored in directory: /tmp/pip-ephem-wheel-cache-7rp854ix/wheels/95/c1/85/65aaf48b35aba88c6e896d2fd04a4b69f1cee0d81ea32993ca\u001b[0m\n",
      "\u001b[34mSuccessfully built train\u001b[0m\n",
      "\u001b[34mInstalling collected packages: train\u001b[0m\n",
      "\u001b[34mSuccessfully installed train-1.0.0\u001b[0m\n",
      "\u001b[34m2020-07-12 00:25:31,450 sagemaker-containers INFO     No GPUs detected (normal if no gpus installed)\u001b[0m\n",
      "\u001b[34m2020-07-12 00:25:31,463 sagemaker-containers INFO     Invoking user script\n",
      "\u001b[0m\n",
      "\u001b[34mTraining Env:\n",
      "\u001b[0m\n",
      "\u001b[34m{\n",
      "    \"additional_framework_parameters\": {},\n",
      "    \"channel_input_dirs\": {},\n",
      "    \"current_host\": \"algo-1\",\n",
      "    \"framework_module\": \"sagemaker_pytorch_container.training:main\",\n",
      "    \"hosts\": [\n",
      "        \"algo-1\"\n",
      "    ],\n",
      "    \"hyperparameters\": {\n",
      "        \"start_day\": 2915\n",
      "    },\n",
      "    \"input_config_dir\": \"/opt/ml/input/config\",\n",
      "    \"input_data_config\": {},\n",
      "    \"input_dir\": \"/opt/ml/input\",\n",
      "    \"is_master\": true,\n",
      "    \"job_name\": \"portfolio-optimization-cpu-2020-07-12-00-22-24-491\",\n",
      "    \"log_level\": 20,\n",
      "    \"master_hostname\": \"algo-1\",\n",
      "    \"model_dir\": \"/opt/ml/model\",\n",
      "    \"module_dir\": \"/opt/ml/code\",\n",
      "    \"module_name\": \"train\",\n",
      "    \"network_interface_name\": \"eth0\",\n",
      "    \"num_cpus\": 2,\n",
      "    \"num_gpus\": 0,\n",
      "    \"output_data_dir\": \"/opt/ml/output/data\",\n",
      "    \"output_dir\": \"/opt/ml/output\",\n",
      "    \"output_intermediate_dir\": \"/opt/ml/output/intermediate\",\n",
      "    \"resource_config\": {\n",
      "        \"current_host\": \"algo-1\",\n",
      "        \"hosts\": [\n",
      "            \"algo-1\"\n",
      "        ],\n",
      "        \"network_interface_name\": \"eth0\"\n",
      "    },\n",
      "    \"user_entry_point\": \"train.py\"\u001b[0m\n",
      "\u001b[34m}\n",
      "\u001b[0m\n",
      "\u001b[34mEnvironment variables:\n",
      "\u001b[0m\n",
      "\u001b[34mSM_HOSTS=[\"algo-1\"]\u001b[0m\n",
      "\u001b[34mSM_NETWORK_INTERFACE_NAME=eth0\u001b[0m\n",
      "\u001b[34mSM_HPS={\"start_day\":2915}\u001b[0m\n",
      "\u001b[34mSM_USER_ENTRY_POINT=train.py\u001b[0m\n",
      "\u001b[34mSM_FRAMEWORK_PARAMS={}\u001b[0m\n",
      "\u001b[34mSM_RESOURCE_CONFIG={\"current_host\":\"algo-1\",\"hosts\":[\"algo-1\"],\"network_interface_name\":\"eth0\"}\u001b[0m\n",
      "\u001b[34mSM_INPUT_DATA_CONFIG={}\u001b[0m\n",
      "\u001b[34mSM_OUTPUT_DATA_DIR=/opt/ml/output/data\u001b[0m\n",
      "\u001b[34mSM_CHANNELS=[]\u001b[0m\n",
      "\u001b[34mSM_CURRENT_HOST=algo-1\u001b[0m\n",
      "\u001b[34mSM_MODULE_NAME=train\u001b[0m\n",
      "\u001b[34mSM_LOG_LEVEL=20\u001b[0m\n",
      "\u001b[34mSM_FRAMEWORK_MODULE=sagemaker_pytorch_container.training:main\u001b[0m\n",
      "\u001b[34mSM_INPUT_DIR=/opt/ml/input\u001b[0m\n",
      "\u001b[34mSM_INPUT_CONFIG_DIR=/opt/ml/input/config\u001b[0m\n",
      "\u001b[34mSM_OUTPUT_DIR=/opt/ml/output\u001b[0m\n",
      "\u001b[34mSM_NUM_CPUS=2\u001b[0m\n",
      "\u001b[34mSM_NUM_GPUS=0\u001b[0m\n",
      "\u001b[34mSM_MODEL_DIR=/opt/ml/model\u001b[0m\n",
      "\u001b[34mSM_MODULE_DIR=/opt/ml/code\u001b[0m\n",
      "\u001b[34mSM_TRAINING_ENV={\"additional_framework_parameters\":{},\"channel_input_dirs\":{},\"current_host\":\"algo-1\",\"framework_module\":\"sagemaker_pytorch_container.training:main\",\"hosts\":[\"algo-1\"],\"hyperparameters\":{\"start_day\":2915},\"input_config_dir\":\"/opt/ml/input/config\",\"input_data_config\":{},\"input_dir\":\"/opt/ml/input\",\"is_master\":true,\"job_name\":\"portfolio-optimization-cpu-2020-07-12-00-22-24-491\",\"log_level\":20,\"master_hostname\":\"algo-1\",\"model_dir\":\"/opt/ml/model\",\"module_dir\":\"/opt/ml/code\",\"module_name\":\"train\",\"network_interface_name\":\"eth0\",\"num_cpus\":2,\"num_gpus\":0,\"output_data_dir\":\"/opt/ml/output/data\",\"output_dir\":\"/opt/ml/output\",\"output_intermediate_dir\":\"/opt/ml/output/intermediate\",\"resource_config\":{\"current_host\":\"algo-1\",\"hosts\":[\"algo-1\"],\"network_interface_name\":\"eth0\"},\"user_entry_point\":\"train.py\"}\u001b[0m\n",
      "\u001b[34mSM_USER_ARGS=[\"--start_day\",\"2915\"]\u001b[0m\n",
      "\u001b[34mSM_OUTPUT_INTERMEDIATE_DIR=/opt/ml/output/intermediate\u001b[0m\n",
      "\u001b[34mSM_HP_START_DAY=2915\u001b[0m\n",
      "\u001b[34mPYTHONPATH=/usr/local/bin:/usr/lib/python36.zip:/usr/lib/python3.6:/usr/lib/python3.6/lib-dynload:/usr/local/lib/python3.6/dist-packages:/usr/lib/python3/dist-packages\n",
      "\u001b[0m\n",
      "\u001b[34mInvoking script with the following command:\n",
      "\u001b[0m\n",
      "\u001b[34m/usr/bin/python -m train --start_day 2915\n",
      "\n",
      "\u001b[0m\n",
      "\u001b[34mCPU activated.\u001b[0m\n",
      "\u001b[34mSetting up the environment.\u001b[0m\n",
      "\u001b[34mSize of action space: 10\u001b[0m\n",
      "\u001b[34mState space per agent: 71\u001b[0m\n",
      "\u001b[34mTraining the agent.\u001b[0m\n",
      "\n",
      "2020-07-12 00:25:27 Training - Training image download completed. Training in progress.\u001b[34m....................................................................................................\u001b[0m\n",
      "\u001b[34mDay 2915, epoch 100 mean p/m ratio: 0.96\u001b[0m\n",
      "\u001b[34m......................................................\u001b[0m\n",
      "\u001b[34mDay 2915, epoch 155 mean p/m ratio: 1.02\u001b[0m\n",
      "\u001b[34m................................\u001b[0m\n",
      "\u001b[34mDay 2916, epoch 32 mean p/m ratio: 1.05\u001b[0m\n",
      "\u001b[34m...............\u001b[0m\n",
      "\u001b[34mDay 2917, epoch 15 mean p/m ratio: 1.05\u001b[0m\n",
      "\u001b[34m...................................................................\u001b[0m\n",
      "\u001b[34mDay 2918, epoch 67 mean p/m ratio: 1.02\u001b[0m\n",
      "\u001b[34m...........\u001b[0m\n",
      "\u001b[34mDay 2919, epoch 11 mean p/m ratio: 1.03\u001b[0m\n",
      "\u001b[34m.................................\u001b[0m\n",
      "\u001b[34mDay 2920, epoch 33 mean p/m ratio: 1.06\u001b[0m\n",
      "\u001b[34m.................\u001b[0m\n",
      "\u001b[34mDay 2921, epoch 17 mean p/m ratio: 1.08\u001b[0m\n",
      "\u001b[34m1.00 p/m ratio.\u001b[0m\n",
      "\u001b[34m2.01 minutes of training.\u001b[0m\n",
      "\u001b[34m0.19 training objective.\u001b[0m\n",
      "\u001b[34mTraining Time:  2.0 minutes\u001b[0m\n",
      "\u001b[34mMake training plot.\u001b[0m\n",
      "\u001b[34m2020-07-12 00:27:35,096 sagemaker-containers INFO     Reporting training SUCCESS\u001b[0m\n",
      "\n",
      "2020-07-12 00:27:42 Uploading - Uploading generated training model\n",
      "2020-07-12 00:27:42 Completed - Training job completed\n",
      "Training seconds: 200\n",
      "Billable seconds: 200\n"
     ]
    }
   ],
   "source": [
    "from sagemaker.estimator import Estimator\n",
    "estimator = Estimator(role=role,\n",
    "                      train_instance_count=1,\n",
    "                      train_instance_type='ml.m5.large',\n",
    "                      image_name=ecr_image,\n",
    "                      hyperparameters={'start_day': start_day})\n",
    "estimator.fit()"
   ]
  },
  {
   "cell_type": "markdown",
   "metadata": {},
   "source": [
    "### Get the results"
   ]
  },
  {
   "cell_type": "markdown",
   "metadata": {},
   "source": [
    "#### Get the bucket name"
   ]
  },
  {
   "cell_type": "code",
   "execution_count": 83,
   "metadata": {},
   "outputs": [
    {
     "name": "stdout",
     "output_type": "stream",
     "text": [
      "sagemaker-us-east-1-031118886020\n",
      "portfolio-optimization-cpu-2020-07-12-00-22-24-491\n"
     ]
    }
   ],
   "source": [
    "from sagemaker.session import Session\n",
    "\n",
    "sagemaker_session = Session()\n",
    "bucket = sagemaker_session.default_bucket()\n",
    "job_name = estimator._current_job_name\n",
    "print(bucket)\n",
    "print(job_name)"
   ]
  },
  {
   "cell_type": "markdown",
   "metadata": {},
   "source": [
    "#### Copy and unpack the result archive\n",
    "Since we didn't start trading until nearly the end, the results are as expected."
   ]
  },
  {
   "cell_type": "code",
   "execution_count": 84,
   "metadata": {},
   "outputs": [
    {
     "name": "stdout",
     "output_type": "stream",
     "text": [
      "portfolio-optimization-cpu-2020-07-12-00-22-24-491/output/output.tar.gz\n"
     ]
    }
   ],
   "source": [
    "import shutil\n",
    "\n",
    "s3 = boto3.resource('s3')\n",
    "key = '{}/output/output.tar.gz'.format(estimator._current_job_name)\n",
    "print(key)\n",
    "s3.Bucket(bucket).download_file(key, 'output.tar.gz')\n",
    "shutil.unpack_archive('output.tar.gz')"
   ]
  },
  {
   "cell_type": "code",
   "execution_count": 85,
   "metadata": {},
   "outputs": [
    {
     "data": {
      "image/png": "[encoded data removed]",
      "text/plain": [
       "<IPython.core.display.Image object>"
      ]
     },
     "execution_count": 85,
     "metadata": {},
     "output_type": "execute_result"
    }
   ],
   "source": [
    "from IPython.display import Image\n",
    "Image(filename='history.png') "
   ]
  },
  {
   "cell_type": "markdown",
   "metadata": {},
   "source": [
    "# References\n",
    "- [Tennis Repo](https://github.com/daniel-fudge/sagemaker-tennis)\n",
    "- [Amazon ECS](https://aws.amazon.com/ecs/)\n",
    "\n",
    "#### SageMaker\n",
    "- [SageMaker Example:  Extending PyTorch Container](https://github.com/awslabs/amazon-sagemaker-examples/tree/master/advanced_functionality/pytorch_extending_our_containers)\n",
    "- [How Amazon SageMaker interacts with your Docker container for training](https://docs.aws.amazon.com/sagemaker/latest/dg/your-algorithms-training-algo.html)\n",
    "- [SageMaker Python SDK](https://github.com/aws/sagemaker-python-sdk)\n",
    "- [scikit-bring-your-own](https://github.com/awslabs/amazon-sagemaker-examples/blob/master/advanced_functionality/scikit_bring_your_own/scikit_bring_your_own.ipynb)\n",
    "- [SageMaker PyTorch container](https://github.com/aws/sagemaker-pytorch-container)\n",
    "- [SageMaker Instance types](https://aws.amazon.com/sagemaker/pricing/instance-types/)\n",
    "- [SageMaker Instance prices](https://aws.amazon.com/sagemaker/pricing/)\n",
    "\n",
    "#### Docker\n",
    "- [Dockerfile](https://docs.docker.com/engine/reference/builder/)\n",
    "- [Docker home page](http://www.docker.com)\n",
    "- [Getting started with Docker](https://docs.docker.com/get-started/)\n",
    "- [Dockerfile reference](https://docs.docker.com/engine/reference/builder/)\n",
    "- [docker run reference](https://docs.docker.com/engine/reference/run/)"
   ]
  },
  {
   "cell_type": "code",
   "execution_count": null,
   "metadata": {},
   "outputs": [],
   "source": []
  }
 ],
 "metadata": {
  "kernelspec": {
   "display_name": "conda_pytorch_p36",
   "language": "python",
   "name": "conda_pytorch_p36"
  },
  "language_info": {
   "codemirror_mode": {
    "name": "ipython",
    "version": 3
   },
   "file_extension": ".py",
   "mimetype": "text/x-python",
   "name": "python",
   "nbconvert_exporter": "python",
   "pygments_lexer": "ipython3",
   "version": "3.6.10"
  }
 },
 "nbformat": 4,
 "nbformat_minor": 2
}
