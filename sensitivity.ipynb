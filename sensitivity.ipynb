{
 "cells": [
  {
   "cell_type": "markdown",
   "metadata": {},
   "source": [
    "# Compare Price and Speed\n",
    "\n",
    "This notebook runs 7 days (2915-2922) on a number of CPU and GPU instance types.  This information will then be used to select the best instance type for the [hyper-parameter tunning](tuning.ipynb)."
   ]
  },
  {
   "cell_type": "markdown",
   "metadata": {},
   "source": [
    "#### Import necessary modules"
   ]
  },
  {
   "cell_type": "code",
   "execution_count": 1,
   "metadata": {},
   "outputs": [],
   "source": [
    "%matplotlib inline\n",
    "import matplotlib\n",
    "import matplotlib.pyplot as plt\n",
    "\n",
    "import boto3\n",
    "import math\n",
    "import numpy as np\n",
    "import pandas as pd\n",
    "from sagemaker import get_execution_role\n",
    "from sagemaker.estimator import Estimator\n",
    "import seaborn as sns; sns.set()\n",
    "from time import sleep"
   ]
  },
  {
   "cell_type": "markdown",
   "metadata": {},
   "source": [
    "#### Get the necessary account information"
   ]
  },
  {
   "cell_type": "code",
   "execution_count": 2,
   "metadata": {
    "scrolled": true
   },
   "outputs": [
    {
     "name": "stdout",
     "output_type": "stream",
     "text": [
      "031118886020.dkr.ecr.us-east-1.amazonaws.com/portfolio-optimization-cpu:latest\n",
      "031118886020.dkr.ecr.us-east-1.amazonaws.com/portfolio-optimization-gpu:latest\n"
     ]
    }
   ],
   "source": [
    "role = get_execution_role()\n",
    "account = boto3.client('sts').get_caller_identity()['Account']\n",
    "region = boto3.Session().region_name\n",
    "image_names = {}\n",
    "for t in ['cpu', 'gpu']:\n",
    "    image_names[t] = '{}.dkr.ecr.{}.amazonaws.com/portfolio-optimization-{}:latest'.format(account, region, t)\n",
    "    print(image_names[t])"
   ]
  },
  {
   "cell_type": "markdown",
   "metadata": {},
   "source": [
    "#### Set for local parameters\n",
    "Prices are in $/hour and are from [here](https://aws.amazon.com/sagemaker/pricing/).\n",
    "\n",
    "These were selected based on the sensitivity [notebook](https://github.com/daniel-fudge/sagemaker-tennis/blob/master/sensitivity.ipynb) in the related [Tennis](https://github.com/daniel-fudge/sagemaker-tennis) repo."
   ]
  },
  {
   "cell_type": "code",
   "execution_count": 3,
   "metadata": {},
   "outputs": [
    {
     "data": {
      "text/html": [
       "<div>\n",
       "<style scoped>\n",
       "    .dataframe tbody tr th:only-of-type {\n",
       "        vertical-align: middle;\n",
       "    }\n",
       "\n",
       "    .dataframe tbody tr th {\n",
       "        vertical-align: top;\n",
       "    }\n",
       "\n",
       "    .dataframe thead th {\n",
       "        text-align: right;\n",
       "    }\n",
       "</style>\n",
       "<table border=\"1\" class=\"dataframe\">\n",
       "  <thead>\n",
       "    <tr style=\"text-align: right;\">\n",
       "      <th></th>\n",
       "      <th>price</th>\n",
       "      <th>type</th>\n",
       "      <th>job_name</th>\n",
       "      <th>time</th>\n",
       "    </tr>\n",
       "  </thead>\n",
       "  <tbody>\n",
       "    <tr>\n",
       "      <th>ml.m5.large</th>\n",
       "      <td>0.134</td>\n",
       "      <td>cpu</td>\n",
       "      <td></td>\n",
       "      <td>NaN</td>\n",
       "    </tr>\n",
       "    <tr>\n",
       "      <th>ml.c5.xlarge</th>\n",
       "      <td>0.238</td>\n",
       "      <td>cpu</td>\n",
       "      <td></td>\n",
       "      <td>NaN</td>\n",
       "    </tr>\n",
       "    <tr>\n",
       "      <th>ml.m4.2xlarge</th>\n",
       "      <td>0.560</td>\n",
       "      <td>cpu</td>\n",
       "      <td></td>\n",
       "      <td>NaN</td>\n",
       "    </tr>\n",
       "    <tr>\n",
       "      <th>ml.c5n.xlarge</th>\n",
       "      <td>0.302</td>\n",
       "      <td>cpu</td>\n",
       "      <td></td>\n",
       "      <td>NaN</td>\n",
       "    </tr>\n",
       "    <tr>\n",
       "      <th>ml.g4dn.xlarge</th>\n",
       "      <td>0.736</td>\n",
       "      <td>gpu</td>\n",
       "      <td></td>\n",
       "      <td>NaN</td>\n",
       "    </tr>\n",
       "    <tr>\n",
       "      <th>ml.g4dn.2xlarge</th>\n",
       "      <td>1.053</td>\n",
       "      <td>gpu</td>\n",
       "      <td></td>\n",
       "      <td>NaN</td>\n",
       "    </tr>\n",
       "  </tbody>\n",
       "</table>\n",
       "</div>"
      ],
      "text/plain": [
       "                 price type job_name  time\n",
       "ml.m5.large      0.134  cpu            NaN\n",
       "ml.c5.xlarge     0.238  cpu            NaN\n",
       "ml.m4.2xlarge    0.560  cpu            NaN\n",
       "ml.c5n.xlarge    0.302  cpu            NaN\n",
       "ml.g4dn.xlarge   0.736  gpu            NaN\n",
       "ml.g4dn.2xlarge  1.053  gpu            NaN"
      ]
     },
     "execution_count": 3,
     "metadata": {},
     "output_type": "execute_result"
    }
   ],
   "source": [
    "n_instances = 1\n",
    "\n",
    "c = {'ml.m5.large': 0.134,\n",
    "     'ml.c5.xlarge': 0.238, \n",
    "     'ml.m4.2xlarge': 0.56,\n",
    "     'ml.c5n.xlarge': 0.302}\n",
    "c = pd.DataFrame(index=c.keys(), columns=['price'], data=c.values())\n",
    "c['type'] = 'cpu'\n",
    "\n",
    "g = {'ml.g4dn.xlarge': 0.736, \n",
    "     'ml.g4dn.2xlarge': 1.053}\n",
    "g = pd.DataFrame(index=g.keys(), columns=['price'], data=g.values())\n",
    "g['type'] = 'gpu'\n",
    "\n",
    "results = pd.concat([c, g])\n",
    "results['job_name'] = ''\n",
    "results['time'] = np.nan\n",
    "del c, g\n",
    "results"
   ]
  },
  {
   "cell_type": "markdown",
   "metadata": {},
   "source": [
    "### Please verify that the prices above haven't changed!!!\n",
    "You may also want to add newly added instances."
   ]
  },
  {
   "cell_type": "markdown",
   "metadata": {},
   "source": [
    "### Run Sensitivity"
   ]
  },
  {
   "cell_type": "markdown",
   "metadata": {},
   "source": [
    "#### Submit all the jobs"
   ]
  },
  {
   "cell_type": "code",
   "execution_count": 4,
   "metadata": {},
   "outputs": [
    {
     "name": "stderr",
     "output_type": "stream",
     "text": [
      "WARNING:root:Parameter image_name will be renamed to image_uri in SageMaker Python SDK v2.\n",
      "WARNING:root:Parameter image_name will be renamed to image_uri in SageMaker Python SDK v2.\n",
      "WARNING:root:Parameter image_name will be renamed to image_uri in SageMaker Python SDK v2.\n",
      "WARNING:root:Parameter image_name will be renamed to image_uri in SageMaker Python SDK v2.\n",
      "WARNING:root:Parameter image_name will be renamed to image_uri in SageMaker Python SDK v2.\n",
      "WARNING:root:Parameter image_name will be renamed to image_uri in SageMaker Python SDK v2.\n"
     ]
    }
   ],
   "source": [
    "for i in results.index.tolist():\n",
    "    estimator = Estimator(role=role,\n",
    "                      train_instance_count=n_instances,\n",
    "                      train_instance_type=i,\n",
    "                      image_name=image_names[results.loc[i, 'type']],\n",
    "                      hyperparameters={'start_day': 2915,\n",
    "                                       'days_per_epoch': 90,\n",
    "                                       'fc1': 512,\n",
    "                                       'fc2': 256,\n",
    "                                       'lr_actor': 0.0005,\n",
    "                                       'lr_critic': 0.004,\n",
    "                                      })\n",
    "    estimator.fit(wait=False)\n",
    "    results.loc[i, 'job_name'] = estimator._current_job_name"
   ]
  },
  {
   "cell_type": "markdown",
   "metadata": {},
   "source": [
    "#### Wait for the jobs to complete and compile billable times\n",
    "Note times are in seconds but prices in $/hour."
   ]
  },
  {
   "cell_type": "code",
   "execution_count": 5,
   "metadata": {},
   "outputs": [
    {
     "name": "stdout",
     "output_type": "stream",
     "text": [
      "ml.m5.large complete.\n",
      "ml.c5.xlarge complete.\n",
      "ml.m4.2xlarge complete.\n",
      "ml.c5n.xlarge complete.\n",
      "ml.g4dn.xlarge complete.\n",
      "ml.g4dn.2xlarge complete.\n"
     ]
    }
   ],
   "source": [
    "client = boto3.client('sagemaker')\n",
    "for i in results.index.tolist():\n",
    "    while True:\n",
    "        info = client.describe_training_job(TrainingJobName=results.loc[i, 'job_name'])\n",
    "        if info['TrainingJobStatus'] == 'Completed':\n",
    "            results.loc[i, 'time'] = info['BillableTimeInSeconds']\n",
    "            print('{} complete.'.format(i))\n",
    "            break\n",
    "        elif info['TrainingJobStatus'] == 'Failed':\n",
    "            print('ERROR:  {}, {} failed!!!'.format(i, results.loc[i, 'job_name']))\n",
    "            break\n",
    "        else:\n",
    "            sleep(60)    "
   ]
  },
  {
   "cell_type": "markdown",
   "metadata": {},
   "source": [
    "#### Compile the job info\n",
    "Note the cost is in cents, time in seconds and price in \\\\$ per hour.  \n",
    "3600 converts seconds to hours and 100 converts \\\\$ to cents.\n"
   ]
  },
  {
   "cell_type": "code",
   "execution_count": 6,
   "metadata": {},
   "outputs": [
    {
     "data": {
      "text/html": [
       "<div>\n",
       "<style scoped>\n",
       "    .dataframe tbody tr th:only-of-type {\n",
       "        vertical-align: middle;\n",
       "    }\n",
       "\n",
       "    .dataframe tbody tr th {\n",
       "        vertical-align: top;\n",
       "    }\n",
       "\n",
       "    .dataframe thead th {\n",
       "        text-align: right;\n",
       "    }\n",
       "</style>\n",
       "<table border=\"1\" class=\"dataframe\">\n",
       "  <thead>\n",
       "    <tr style=\"text-align: right;\">\n",
       "      <th></th>\n",
       "      <th>price</th>\n",
       "      <th>type</th>\n",
       "      <th>job_name</th>\n",
       "      <th>time</th>\n",
       "      <th>cost</th>\n",
       "      <th>eff</th>\n",
       "    </tr>\n",
       "  </thead>\n",
       "  <tbody>\n",
       "    <tr>\n",
       "      <th>ml.m5.large</th>\n",
       "      <td>0.134</td>\n",
       "      <td>cpu</td>\n",
       "      <td>portfolio-optimization-cpu-2020-07-12-13-08-07...</td>\n",
       "      <td>379.0</td>\n",
       "      <td>1.410722</td>\n",
       "      <td>534.663722</td>\n",
       "    </tr>\n",
       "    <tr>\n",
       "      <th>ml.c5.xlarge</th>\n",
       "      <td>0.238</td>\n",
       "      <td>cpu</td>\n",
       "      <td>portfolio-optimization-cpu-2020-07-12-13-08-07...</td>\n",
       "      <td>425.0</td>\n",
       "      <td>2.809722</td>\n",
       "      <td>1194.131944</td>\n",
       "    </tr>\n",
       "    <tr>\n",
       "      <th>ml.m4.2xlarge</th>\n",
       "      <td>0.560</td>\n",
       "      <td>cpu</td>\n",
       "      <td>portfolio-optimization-cpu-2020-07-12-13-08-12...</td>\n",
       "      <td>676.0</td>\n",
       "      <td>10.515556</td>\n",
       "      <td>7108.515556</td>\n",
       "    </tr>\n",
       "    <tr>\n",
       "      <th>ml.c5n.xlarge</th>\n",
       "      <td>0.302</td>\n",
       "      <td>cpu</td>\n",
       "      <td>portfolio-optimization-cpu-2020-07-12-13-08-12...</td>\n",
       "      <td>386.0</td>\n",
       "      <td>3.238111</td>\n",
       "      <td>1249.910889</td>\n",
       "    </tr>\n",
       "    <tr>\n",
       "      <th>ml.g4dn.xlarge</th>\n",
       "      <td>0.736</td>\n",
       "      <td>gpu</td>\n",
       "      <td>portfolio-optimization-gpu-2020-07-12-13-08-14...</td>\n",
       "      <td>198.0</td>\n",
       "      <td>4.048000</td>\n",
       "      <td>801.504000</td>\n",
       "    </tr>\n",
       "    <tr>\n",
       "      <th>ml.g4dn.2xlarge</th>\n",
       "      <td>1.053</td>\n",
       "      <td>gpu</td>\n",
       "      <td>portfolio-optimization-gpu-2020-07-12-13-08-16...</td>\n",
       "      <td>238.0</td>\n",
       "      <td>6.961500</td>\n",
       "      <td>1656.837000</td>\n",
       "    </tr>\n",
       "  </tbody>\n",
       "</table>\n",
       "</div>"
      ],
      "text/plain": [
       "                 price type  \\\n",
       "ml.m5.large      0.134  cpu   \n",
       "ml.c5.xlarge     0.238  cpu   \n",
       "ml.m4.2xlarge    0.560  cpu   \n",
       "ml.c5n.xlarge    0.302  cpu   \n",
       "ml.g4dn.xlarge   0.736  gpu   \n",
       "ml.g4dn.2xlarge  1.053  gpu   \n",
       "\n",
       "                                                          job_name   time  \\\n",
       "ml.m5.large      portfolio-optimization-cpu-2020-07-12-13-08-07...  379.0   \n",
       "ml.c5.xlarge     portfolio-optimization-cpu-2020-07-12-13-08-07...  425.0   \n",
       "ml.m4.2xlarge    portfolio-optimization-cpu-2020-07-12-13-08-12...  676.0   \n",
       "ml.c5n.xlarge    portfolio-optimization-cpu-2020-07-12-13-08-12...  386.0   \n",
       "ml.g4dn.xlarge   portfolio-optimization-gpu-2020-07-12-13-08-14...  198.0   \n",
       "ml.g4dn.2xlarge  portfolio-optimization-gpu-2020-07-12-13-08-16...  238.0   \n",
       "\n",
       "                      cost          eff  \n",
       "ml.m5.large       1.410722   534.663722  \n",
       "ml.c5.xlarge      2.809722  1194.131944  \n",
       "ml.m4.2xlarge    10.515556  7108.515556  \n",
       "ml.c5n.xlarge     3.238111  1249.910889  \n",
       "ml.g4dn.xlarge    4.048000   801.504000  \n",
       "ml.g4dn.2xlarge   6.961500  1656.837000  "
      ]
     },
     "execution_count": 6,
     "metadata": {},
     "output_type": "execute_result"
    }
   ],
   "source": [
    "results['cost'] = results['price'] * results['time'] / 3600 * 100\n",
    "results['eff'] = results['cost'] * results['time']\n",
    "results.to_csv('results.csv')\n",
    "results\n"
   ]
  },
  {
   "cell_type": "markdown",
   "metadata": {},
   "source": [
    "#### Make a pretty plot "
   ]
  },
  {
   "cell_type": "code",
   "execution_count": 7,
   "metadata": {},
   "outputs": [
    {
     "data": {
      "image/png": "[encoded data removed]",
      "text/plain": [
       "<Figure size 432x288 with 1 Axes>"
      ]
     },
     "metadata": {},
     "output_type": "display_data"
    }
   ],
   "source": [
    "import matplotlib.cm as cm\n",
    "import matplotlib.colors as colors\n",
    "\n",
    "colormap = cm.viridis\n",
    "colorlist = [colors.rgb2hex(colormap(i)) for i in np.linspace(0, 0.9, results.shape[0])]\n",
    "\n",
    "markers = ['o', 'v', '^', '<', '>', 's', \n",
    "           '*', 'X', 'P', 'D'] * math.ceil(results.shape[0]/10)\n",
    "\n",
    "fig, ax = plt.subplots()\n",
    "for i, name in enumerate(results.index.tolist()):\n",
    "    ax.scatter(results.loc[name, 'time'], results.loc[name, 'cost'], label=name, s=50, \n",
    "               linewidth=0.1, c=colorlist[i], marker=markers[i])\n",
    "ax.legend(bbox_to_anchor=(1,1))\n",
    "ax.set_xlim(left=0)\n",
    "ax.set_ylim(bottom=0)\n",
    "\n",
    "# ax = results.plot.scatter(x='time', y='cost', c='blue')\n",
    "_ = ax.set(xlabel=\"Time in Seconds\", ylabel=\"Cost in Cents\")\n",
    "plt.show()"
   ]
  },
  {
   "cell_type": "markdown",
   "metadata": {},
   "source": [
    "# Conclusion"
   ]
  },
  {
   "cell_type": "code",
   "execution_count": 8,
   "metadata": {},
   "outputs": [
    {
     "name": "stdout",
     "output_type": "stream",
     "text": [
      "ml.m5.large is the cheapest instance type; 6.3 min and $0.014.\n",
      "ml.g4dn.xlarge is the fastest instance type; 3.3 min and $0.040.\n",
      "ml.m5.large is the most efficient instance type; 6.3 min and $0.014.\n"
     ]
    }
   ],
   "source": [
    "for n, t in zip([results.price.idxmin(), results.time.idxmin(), results.eff.idxmin()],\n",
    "                ['cheapest', 'fastest', 'most efficient']):\n",
    "    print(\"{} is the {} instance type; {:.1f} min and ${:.3f}.\".format(n, t, \n",
    "                                                                    results.loc[n, 'time']/60,\n",
    "                                                                    results.loc[n, 'cost']/100))\n"
   ]
  },
  {
   "cell_type": "markdown",
   "metadata": {},
   "source": [
    "# Reference\n",
    "- [Tennis Sensitivity](https://github.com/daniel-fudge/sagemaker-tennis/blob/master/sensitivity.ipynb)\n",
    "- [Tennis Repo](https://github.com/daniel-fudge/sagemaker-tennis)\n",
    "#### SageMaker\n",
    "- [SageMaker Instance types](https://aws.amazon.com/sagemaker/pricing/instance-types/)\n",
    "- [SageMaker Instance prices](https://aws.amazon.com/sagemaker/pricing/)\n",
    "- [SageMaker Estimator SDK](https://sagemaker.readthedocs.io/en/stable/api/training/estimators.html)"
   ]
  },
  {
   "cell_type": "code",
   "execution_count": null,
   "metadata": {},
   "outputs": [],
   "source": []
  }
 ],
 "metadata": {
  "kernelspec": {
   "display_name": "conda_pytorch_p36",
   "language": "python",
   "name": "conda_pytorch_p36"
  },
  "language_info": {
   "codemirror_mode": {
    "name": "ipython",
    "version": 3
   },
   "file_extension": ".py",
   "mimetype": "text/x-python",
   "name": "python",
   "nbconvert_exporter": "python",
   "pygments_lexer": "ipython3",
   "version": "3.6.10"
  }
 },
 "nbformat": 4,
 "nbformat_minor": 2
}
